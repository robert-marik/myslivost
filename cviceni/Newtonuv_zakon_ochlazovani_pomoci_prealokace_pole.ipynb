{
  "nbformat": 4,
  "nbformat_minor": 0,
  "metadata": {
    "colab": {
      "provenance": [],
      "collapsed_sections": [],
      "authorship_tag": "ABX9TyNCh0ksQAA/ZypIXBhcRQUO",
      "include_colab_link": true
    },
    "kernelspec": {
      "name": "python3",
      "display_name": "Python 3"
    },
    "language_info": {
      "name": "python"
    }
  },
  "cells": [
    {
      "cell_type": "markdown",
      "metadata": {
        "id": "view-in-github",
        "colab_type": "text"
      },
      "source": [
        "<a href=\"https://colab.research.google.com/github/robert-marik/myslivost/blob/main/cviceni/Newtonuv_zakon_ochlazovani_pomoci_prealokace_pole.ipynb\" target=\"_parent\"><img src=\"https://colab.research.google.com/assets/colab-badge.svg\" alt=\"Open In Colab\"/></a>"
      ]
    },
    {
      "cell_type": "markdown",
      "source": [
        "# Newtonův zákon ochlazování\n",
        "\n",
        "**Budeme modelovat ochlazování hrníčku s kávou. Z počáteční hodnoty bude teplota klesat rychlostí, která je úměrná rozdílu teploty kávy a teploty okolí.**\n",
        "\n",
        "Budeme postupovat po malých krůčcích. Vyjdeme z aktuální teploty, vypočteme teplotní rozdíl a pomocí něj určíme aktuální rychlost ochlazování. Zvolíme-li časový interval a v tomto intervalu budeme rychlost považovat za konstantní, můžeme odhadnout, o kolik se káva v tomto časovém intervalu ochladí a tím zjistit, jaká bude teplota v dalším časovém okamžiku. Tím dostaneme novou aktuální teplotu pro pozdější čas a postup opakujeme. \n",
        "\n",
        "Uvedenou myšlenku si numericky nasimulujeme."
      ],
      "metadata": {
        "id": "3LZRJ9sk-q_6"
      }
    },
    {
      "cell_type": "code",
      "execution_count": null,
      "metadata": {
        "id": "sVWlzFYdsAPl"
      },
      "outputs": [],
      "source": [
        "# Nainportujeme knihovny pro výpočty a kreslení\n",
        "import numpy as np\n",
        "import matplotlib.pyplot as plt\n"
      ]
    },
    {
      "cell_type": "markdown",
      "source": [
        "Následující blok nastavuje parametry výpočtu. Jak dlouhá simulace v čase nás zajímá a po jak velkých časových krocích budeme postupovat. S ohledem na tyto parametry si nachystáme česovou škálu a vyhradíme paměť pro teplotu. "
      ],
      "metadata": {
        "id": "vm9bc5SB-DEw"
      }
    },
    {
      "cell_type": "code",
      "source": [
        "tmax = 40 # Cas budeme merit od nuly, maximalni cas, jakeho chceme v simulaci \n",
        "          # doshanout bude tmax\n",
        "pocet = 1001  # Pocet podintervalu, na ktery rozdelime casovy interval. \n",
        "              # Uvnitr techto podintervalu budeme rychlost povazovat za konstantu.\n",
        "t = np.linspace(0,tmax,pocet)  # Prikaz vygeneruje body na casove ose\n",
        "dt = t[1]-t[0]  # Delka casoveho podintervalu\n",
        "T = np.zeros(pocet)  # Prikaz alokuje misto pro ukladani teploty"
      ],
      "metadata": {
        "id": "5WBXrS2r4Yr6"
      },
      "execution_count": null,
      "outputs": []
    },
    {
      "cell_type": "markdown",
      "source": [
        "Následující parametry charaktrizují fyzikální podmínky simulace. Nastavují počáteční teplotu kávy, teplotu místnosti a koeficient související s tepelně izolačními vlastnostmi hrníčku. Koeficient bude jiný pro plechový hrnek, porcelánový hrnek, polystyrenový hrnek nebo termohrnek."
      ],
      "metadata": {
        "id": "EXL9Afj6-a7c"
      }
    },
    {
      "cell_type": "code",
      "source": [
        "T[0]=100        # nastaveni pocatecni teploty\n",
        "T_okoli = 20    # nastaveni teploty okoli\n",
        "k=.15           # nastaveni parametru hrnicku, zda v nem kava chladne rychle nebo pomalu"
      ],
      "metadata": {
        "id": "a7J8TFoG4bK9"
      },
      "execution_count": null,
      "outputs": []
    },
    {
      "cell_type": "markdown",
      "source": [
        "Následující blok postupně krůček po krůčku vezme současnou teplotu a přidá k ní pokles v následujícím časovém intervalu. Tento pokles se počítá pomocí předpokladu, že rychlost je konstantní. Je-li časový interval opravdu krátký, je tento předpoklad oprávněný a vede k realistické simulaci procesu."
      ],
      "metadata": {
        "id": "4P2BYWwX_-7Z"
      }
    },
    {
      "cell_type": "code",
      "source": [
        "for i in range(len(T)-1):  # Cyklus pres vsechny teploty krome predposledni\n",
        "  dT = -dt*k*(T[i]-T_okoli)  # Zmena teploty do následujícího časového okamžiku\n",
        "  T[i+1] = T[i]+dT # Výpočet teploty v následujícím časovém okamžiku"
      ],
      "metadata": {
        "id": "0fYBKYupsQgk"
      },
      "execution_count": null,
      "outputs": []
    },
    {
      "cell_type": "markdown",
      "source": [
        "Na závěr řešení získané simulací vykreslíme."
      ],
      "metadata": {
        "id": "g73TrmMZAXET"
      }
    },
    {
      "cell_type": "code",
      "source": [
        "fig, ax = plt.subplots()  # Založení obrázku\n",
        "plt.plot(t,T)  # Vykrelsení závislosti teploty na čase\n",
        "ax.set(  # Popisky os, nastavení rozsahu\n",
        "    ylim=[0,max(T)],\n",
        "    ylabel=\"teplota\",\n",
        "    xlabel=\"čas\",\n",
        "    title=\"Vývoj teploty kávy v čase\"\n",
        "    )"
      ],
      "metadata": {
        "colab": {
          "base_uri": "https://localhost:8080/",
          "height": 366
        },
        "id": "EjLoMcUJtFUG",
        "outputId": "81803a54-7779-4afc-d263-4d304a1cd034"
      },
      "execution_count": null,
      "outputs": [
        {
          "output_type": "execute_result",
          "data": {
            "text/plain": [
              "[(0.0, 100.0),\n",
              " Text(0, 0.5, 'teplota'),\n",
              " Text(0.5, 0, 'čas'),\n",
              " Text(0.5, 1.0, 'Vývoj teploty kávy v čase')]"
            ]
          },
          "metadata": {},
          "execution_count": 43
        },
        {
          "output_type": "display_data",
          "data": {
            "text/plain": [
              "<Figure size 432x288 with 1 Axes>"
            ],
            "image/png": "[encoded data removed]"
          },
          "metadata": {
            "needs_background": "light"
          }
        }
      ]
    },
    {
      "cell_type": "code",
      "source": [],
      "metadata": {
        "id": "H7hSb-w548i4"
      },
      "execution_count": null,
      "outputs": []
    }
  ]
}