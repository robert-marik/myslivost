{
  "nbformat": 4,
  "nbformat_minor": 0,
  "metadata": {
    "colab": {
      "provenance": [],
      "collapsed_sections": [],
      "authorship_tag": "ABX9TyOf0fN/Zi6B9Sr6k50U3ecQ",
      "include_colab_link": true
    },
    "kernelspec": {
      "name": "python3",
      "display_name": "Python 3"
    },
    "language_info": {
      "name": "python"
    }
  },
  "cells": [
    {
      "cell_type": "markdown",
      "metadata": {
        "id": "view-in-github",
        "colab_type": "text"
      },
      "source": [
        "<a href=\"https://colab.research.google.com/github/robert-marik/myslivost/blob/main/cviceni/00_Uvod.ipynb\" target=\"_parent\"><img src=\"https://colab.research.google.com/assets/colab-badge.svg\" alt=\"Open In Colab\"/></a>"
      ]
    },
    {
      "cell_type": "markdown",
      "source": [
        "# Python\n",
        "\n",
        "* Python je někdy označován jako programovací jazyk pro neprogamátory. Díky tomu existují [jednoduché tutoriály](https://naucse.python.cz/course/pyladies/) zaměřené právě na neprogramátory (lidi, kteří nejsou programátory a ani se jimi nemíní stát, chtějí pouze pracovat s daty)\n",
        "* Python v sobě obsahuje jeden z nejmocnějších nástrojů pro kreslení a vizulizaci dat, knihovnu [matplotlib](https://matplotlib.org/stable/gallery/index.html).\n",
        "* Python v sobě obsahuje jeden z nejmocnějších nástrojů pro numerické simulace, knihovnu [numpy](https://numpy.org/), [český tutoriál](https://naucse.python.cz/lessons/intro/numpy/)\n",
        "* Python je jende z nejrozšířenějších nástrojů pro práci s daty: google a vhodná klíčová slova navedou na publikovaná řešení problémů\n",
        "* Python v sobě obsahuje jeden z nejmocnějších nástrojů pro práci s tabulkami, knihovnu pandas.\n",
        "\n",
        "Python versus Excel\n",
        "\n",
        "* Jiný systém práce. Excel klikací, skoro nulová doba učení, intuitivní. Python je skriptovací (programovací) jazyk. Křivka učení je jiná, má pomalejší náběh, ale v dlouhodobém měřítku se to vyplatí.\n",
        "* Excel je skvělý pro malé objemy dat a jednoduché výpočty. Python pro velké objemy dat a netriviální výpočty, kde Excelovská řešení jsou nepřehledná a je těžké je rozvíjet.\n",
        "* Python umožňuje automatizaci činností. Je možné provádět činnosti opakovaně v cyklech a bez zásahu uživatele. Excel potřebuje interakci s uživatelem. \n",
        "\n",
        "Jak se naučit Python\n",
        "\n",
        "Není asi dobrá cesta nejprve sáhnout po učebnici. Vhodnější je rozkoukat se na krátkých sekvencích příkazů, vyzkoušet si je modifikovat, pokračovat ke stále náročnějším úkolům. Rozkoukávat se. Tím člověk vstřebá i základní syntaxi. \n",
        "\n",
        "* Zkoušet si hotové ukázky, během toho vstřebávat základní techniky práce, jako je například syntaxe příkazů. Vyhledávat si aktivně odpovědi na otázky, které během tohoto nastanou. \n",
        "* Modifikovat hotové ukázky, aktivně pracovat s kódem.\n",
        "* Snažit se použít hotové ukázky jako stavební kameny pro komplexnější úlohy.\n",
        "* Naučit se pořádně základy Pythonu\n",
        "\n"
      ],
      "metadata": {
        "id": "fwpsWSRZh_lE"
      }
    },
    {
      "cell_type": "markdown",
      "source": [
        "# První kroky\n",
        "\n",
        "Před začátkem práce je vhodné načíst knihovny, které obvykle používáme. Nic nepokazíme, pokud budeme tento kód recyklovat všude. Spouští se kliknutím na tlačítko pro spuštění, nebo shift+Enter"
      ],
      "metadata": {
        "id": "c1_2RKPXtuXB"
      }
    },
    {
      "cell_type": "code",
      "execution_count": null,
      "metadata": {
        "id": "_KdGNkOqcPYR"
      },
      "outputs": [],
      "source": [
        "import numpy as np\n",
        "import matplotlib.pyplot as plt\n",
        "import pandas as pd"
      ]
    },
    {
      "cell_type": "markdown",
      "source": [
        "# První výpočet\n",
        "\n",
        "\n"
      ],
      "metadata": {
        "id": "oOlrWXOGuVA0"
      }
    },
    {
      "cell_type": "code",
      "source": [
        "123+456*2  # vypocet hodnoty"
      ],
      "metadata": {
        "colab": {
          "base_uri": "https://localhost:8080/"
        },
        "id": "2c-7wVQQccV-",
        "outputId": "54f8569d-bb85-4e36-fd88-4a8ec40ceb30"
      },
      "execution_count": null,
      "outputs": [
        {
          "output_type": "execute_result",
          "data": {
            "text/plain": [
              "1035"
            ]
          },
          "metadata": {},
          "execution_count": 2
        }
      ]
    },
    {
      "cell_type": "markdown",
      "source": [
        "Tiskne se výstup posledního příkazu. Pokud chceme vytsknout více údajů, použijeme funkci print."
      ],
      "metadata": {
        "id": "_QCt-Dgh0TG0"
      }
    },
    {
      "cell_type": "code",
      "source": [
        "print(123+456*2)\n",
        "print((1+3)/7)"
      ],
      "metadata": {
        "colab": {
          "base_uri": "https://localhost:8080/"
        },
        "id": "IUWbqKrg0Lm2",
        "outputId": "f0f3a429-0769-4d9d-c25e-71fe93477e30"
      },
      "execution_count": null,
      "outputs": [
        {
          "output_type": "stream",
          "name": "stdout",
          "text": [
            "1035\n",
            "0.5714285714285714\n"
          ]
        }
      ]
    },
    {
      "cell_type": "markdown",
      "source": [
        "## Úkol \n",
        "Vypočítejte $\\frac {6\\times 5+6}{7}$ a $\\frac {6\\times (5+6)}{7}$"
      ],
      "metadata": {
        "id": "6hihia6Bp_x2"
      }
    },
    {
      "cell_type": "code",
      "source": [
        "# sem napiste svuj kod"
      ],
      "metadata": {
        "id": "CfAJgTtXqUkY"
      },
      "execution_count": null,
      "outputs": []
    },
    {
      "cell_type": "markdown",
      "source": [
        "#### Reseni"
      ],
      "metadata": {
        "id": "nfjzctMl0tTn"
      }
    },
    {
      "cell_type": "code",
      "source": [
        "print( (6*5+6)/7 )\n",
        "print( 6*(5+6)/7 )\n"
      ],
      "metadata": {
        "colab": {
          "base_uri": "https://localhost:8080/"
        },
        "id": "4tu71zw5p_fT",
        "outputId": "af9cfe77-5ffb-44d3-f67a-85afdb91d96f"
      },
      "execution_count": null,
      "outputs": [
        {
          "output_type": "stream",
          "name": "stdout",
          "text": [
            "5.142857142857143\n",
            "9.428571428571429\n"
          ]
        }
      ]
    },
    {
      "cell_type": "markdown",
      "source": [
        "# Složitější výpočet"
      ],
      "metadata": {
        "id": "fsXS8xtBuZlW"
      }
    },
    {
      "cell_type": "code",
      "source": [
        "a = 4  # ulozeni hodnoty do promenne a\n",
        "b = 5  # ulozeni hodnoty do promenne b\n",
        "c = np.sqrt(a**2+b**2)  # vypocet promenne c, odmocnina sqrt je z knihovny numpy naimportovane pod nazvem np\n",
        "print(c) # tisk promenne c"
      ],
      "metadata": {
        "colab": {
          "base_uri": "https://localhost:8080/"
        },
        "id": "9qJavdcgchz3",
        "outputId": "59e04e00-8e14-4111-e1bd-9f573fb73063"
      },
      "execution_count": null,
      "outputs": [
        {
          "output_type": "stream",
          "name": "stdout",
          "text": [
            "6.4031242374328485\n"
          ]
        }
      ]
    },
    {
      "cell_type": "code",
      "source": [
        "def trojuhelnik(a=3,b=4):  # definice nove funkce obsahuje jmeno funkce, seznam parametru a muze obsahovat defaultni hodnoty pro parametry\n",
        "  druhe_mocniny = [a**2,b**2] # jakkoliv dlouhe telo je odsazene dvema nebo ctyrmi mezerami a pocitame zde vyslednou hodnotu funkce\n",
        "  soucet = sum(druhe_mocniny)\n",
        "  vysledek = np.sqrt(soucet)  \n",
        "  return [a, b, vysledek]\n",
        "# Jde o ilustraci, uvedeny priklad je mozne napsat na jeden radek:\n",
        "# return [a, b, np.sqrt(a**2+b**2)]\n",
        "\n",
        "print (trojuhelnik(4,5))\n",
        "print (trojuhelnik(b=5,a=4))\n",
        "print (trojuhelnik())"
      ],
      "metadata": {
        "colab": {
          "base_uri": "https://localhost:8080/"
        },
        "id": "Uwy6Fk-Xevn_",
        "outputId": "ec77f833-6cdf-4a14-9b5a-61a1ce86a5d3"
      },
      "execution_count": null,
      "outputs": [
        {
          "output_type": "stream",
          "name": "stdout",
          "text": [
            "[4, 5, 6.4031242374328485]\n",
            "[4, 5, 6.4031242374328485]\n",
            "[3, 4, 5.0]\n"
          ]
        }
      ]
    },
    {
      "cell_type": "markdown",
      "source": [
        "# Práce s posloupnostmi dat"
      ],
      "metadata": {
        "id": "FLlOMEUwuerV"
      }
    },
    {
      "cell_type": "markdown",
      "source": [
        "Posloupnost dat (angl. list) se píše do hranatých závorek. Můžeme snadno počítat jejich součet, průměr a další charakteristiky. Základy práce jsou v [tutoriálu](https://www.w3schools.com/python/python_lists.asp)."
      ],
      "metadata": {
        "id": "b_yc3m6e4bYU"
      }
    },
    {
      "cell_type": "code",
      "source": [
        "data = [2, 3, 4, 5, 6, 8, 9, 10]\n",
        "np.mean(data)"
      ],
      "metadata": {
        "colab": {
          "base_uri": "https://localhost:8080/"
        },
        "id": "TI3UZMU-1Qvd",
        "outputId": "12e60901-c6ce-4dc8-8014-4f23afb0d745"
      },
      "execution_count": null,
      "outputs": [
        {
          "output_type": "execute_result",
          "data": {
            "text/plain": [
              "5.875"
            ]
          },
          "metadata": {},
          "execution_count": 8
        }
      ]
    },
    {
      "cell_type": "markdown",
      "source": [
        "Obvyklou činností je oterace přes poslouponost dat. Následující příklad počítá druhou mocninu každého prvku z proměnné data a vytváří posloupnost s druhými mocninami."
      ],
      "metadata": {
        "id": "a2yNXjoy4pIt"
      }
    },
    {
      "cell_type": "code",
      "source": [
        "[k**2 for k in data]"
      ],
      "metadata": {
        "colab": {
          "base_uri": "https://localhost:8080/"
        },
        "id": "zolU3LZF2MJm",
        "outputId": "1379a567-2129-468f-c306-fb2d2a02418c"
      },
      "execution_count": null,
      "outputs": [
        {
          "output_type": "execute_result",
          "data": {
            "text/plain": [
              "[4, 9, 16, 25, 36, 64, 81, 100]"
            ]
          },
          "metadata": {},
          "execution_count": 9
        }
      ]
    },
    {
      "cell_type": "markdown",
      "source": [
        "Pokud jsou data tvořena souvislou řadou, můžeme použít pro iteraci příkaz [range](https://www.w3schools.com/python/ref_func_range.asp)."
      ],
      "metadata": {
        "id": "G_8SXH6q45x8"
      }
    },
    {
      "cell_type": "code",
      "source": [
        "data = [i for i in range(11)]\n",
        "mocniny = [i**2 for i in data]\n",
        "print(data)\n",
        "print(mocniny)"
      ],
      "metadata": {
        "colab": {
          "base_uri": "https://localhost:8080/"
        },
        "id": "7z5-H-eD2kfJ",
        "outputId": "781d3529-5c3f-4ca6-d12a-bf25bc39d18d"
      },
      "execution_count": null,
      "outputs": [
        {
          "output_type": "stream",
          "name": "stdout",
          "text": [
            "[0, 1, 2, 3, 4, 5, 6, 7, 8, 9, 10]\n",
            "[0, 1, 4, 9, 16, 25, 36, 49, 64, 81, 100]\n"
          ]
        }
      ]
    },
    {
      "cell_type": "markdown",
      "source": [
        "Pole, které je typu numpy.array má více možností. Například je možné na ně aplikovat matematické funkce. Ty potom odpovídají tomu, že se funkce aplikuje na každý prvek. Například je snadné umocnit všechna čísla seznamu na druhou nebo sečíst třetí mocniny všech čísel v seznamu."
      ],
      "metadata": {
        "id": "Vw54U6NE6AXz"
      }
    },
    {
      "cell_type": "code",
      "source": [
        "dataN = np.array(data)\n",
        "dataN**2"
      ],
      "metadata": {
        "colab": {
          "base_uri": "https://localhost:8080/"
        },
        "id": "8bwNHdxtctnA",
        "outputId": "5f407217-a9aa-45a1-f1bf-ac92cbfe8f35"
      },
      "execution_count": null,
      "outputs": [
        {
          "output_type": "execute_result",
          "data": {
            "text/plain": [
              "array([  0,   1,   4,   9,  16,  25,  36,  49,  64,  81, 100])"
            ]
          },
          "metadata": {},
          "execution_count": 11
        }
      ]
    },
    {
      "cell_type": "code",
      "source": [
        "data = np.array(range(11))\n",
        "sum(data**3)"
      ],
      "metadata": {
        "colab": {
          "base_uri": "https://localhost:8080/"
        },
        "id": "5YY2Sn9bq-RB",
        "outputId": "27ecb885-8a4b-4ca5-8924-e75062d30f53"
      },
      "execution_count": null,
      "outputs": [
        {
          "output_type": "execute_result",
          "data": {
            "text/plain": [
              "3025"
            ]
          },
          "metadata": {},
          "execution_count": 12
        }
      ]
    },
    {
      "cell_type": "markdown",
      "source": [
        "# První kroky v grafice"
      ],
      "metadata": {
        "id": "6zcy8BhputBW"
      }
    },
    {
      "cell_type": "markdown",
      "source": [
        "Při zpracování dat je zpravidla vhodné oddělit přípravu/načtení dat, přípravu dat (rozhodnout jak zacházet s chybějícími údaji apod.), provedení výpočtů pro zpracování dat a následně vizualizací výsledků ve formě tabulek, grafů, nebo číselných charakteristik. Pokusíme se takto pracovat s grafikou."
      ],
      "metadata": {
        "id": "u_ILpShH9FcB"
      }
    },
    {
      "cell_type": "code",
      "source": [
        "# příprava dat\n",
        "i = np.array(range(11))\n",
        "i2 = i**2\n",
        "i3 = i**3\n",
        "\n",
        "# vizualizace\n",
        "fig, ax = plt.subplots()\n",
        "ax.plot(i,i2,label=\"parabola\")\n",
        "ax.plot(i,i3,label=\"kubická parabola\")\n",
        "\n",
        "# Popisky a další úpravy\n",
        "ax.legend()\n",
        "ax.set(\n",
        "    title = \"Obrázek s hrbatými funkcemi\",\n",
        "    ylim = [0, 150]    \n",
        ")"
      ],
      "metadata": {
        "colab": {
          "base_uri": "https://localhost:8080/",
          "height": 299
        },
        "id": "kS6IAa4wc1XR",
        "outputId": "04b4970f-aaa6-4410-9dbc-c65032ef8df4"
      },
      "execution_count": null,
      "outputs": [
        {
          "output_type": "execute_result",
          "data": {
            "text/plain": [
              "[(0.0, 150.0), Text(0.5, 1.0, 'Obrázek s hrbatými funkcemi')]"
            ]
          },
          "metadata": {},
          "execution_count": 13
        },
        {
          "output_type": "display_data",
          "data": {
            "text/plain": [
              "<Figure size 432x288 with 1 Axes>"
            ],
            "image/png": "[encoded data removed]"
          },
          "metadata": {
            "needs_background": "light"
          }
        }
      ]
    },
    {
      "cell_type": "code",
      "source": [
        "t = np.linspace(0,10,100)\n",
        "t2 = t**2\n",
        "t3 = t**3\n",
        "\n",
        "fig, ax = plt.subplots()\n",
        "ax.plot(t,t2,label=\"parabola\")\n",
        "ax.plot(t,t3,label=\"kubická parabola\")\n",
        "\n",
        "ax.legend(title = \"Jména křivek\")\n",
        "ax.set(\n",
        "    title = \"Obrázek s hladkými funkcemi\",\n",
        "    ylim = [-2, 150],\n",
        "    xlabel = \"nezávislá proměnná\",\n",
        "    ylabel = \"závislá proměnná\"    \n",
        ")"
      ],
      "metadata": {
        "colab": {
          "base_uri": "https://localhost:8080/",
          "height": 367
        },
        "id": "Z23P3FPBc67Q",
        "outputId": "0eb9359f-2f13-4c02-839c-3e765bcfd365"
      },
      "execution_count": null,
      "outputs": [
        {
          "output_type": "execute_result",
          "data": {
            "text/plain": [
              "[(-2.0, 150.0),\n",
              " Text(0, 0.5, 'závislá proměnná'),\n",
              " Text(0.5, 0, 'nezávislá proměnná'),\n",
              " Text(0.5, 1.0, 'Obrázek s hladkými funkcemi')]"
            ]
          },
          "metadata": {},
          "execution_count": 14
        },
        {
          "output_type": "display_data",
          "data": {
            "text/plain": [
              "<Figure size 432x288 with 1 Axes>"
            ],
            "image/png": "[encoded data removed]"
          },
          "metadata": {
            "needs_background": "light"
          }
        }
      ]
    },
    {
      "cell_type": "code",
      "source": [
        "t = np.linspace(0,10,100)\n",
        "exponenty = range(1,7)\n",
        "funkce = [t**i for i in exponenty]\n",
        "\n",
        "fig, ax = plt.subplots()\n",
        "for f in funkce:\n",
        "  ax.plot(t,f)\n",
        "\n",
        "ax.set(\n",
        "    title = \"Obrázek s hladkými funkcemi\",\n",
        "    ylim = [-2, 150],\n",
        "    xlabel = \"nezávislá proměnná\",\n",
        "    ylabel = \"závislá proměnná\"    \n",
        ")\n",
        "legenda = [\"Křivka $y=x^%s$\"%i for i in exponenty]\n",
        "ax.legend(legenda, title=\"Mocninné funkce\", loc = \"upper right\")"
      ],
      "metadata": {
        "colab": {
          "base_uri": "https://localhost:8080/",
          "height": 314
        },
        "id": "c112qOptwKmd",
        "outputId": "8a93cc77-60c2-4367-aff3-62ad3aaf3fdd"
      },
      "execution_count": null,
      "outputs": [
        {
          "output_type": "execute_result",
          "data": {
            "text/plain": [
              "<matplotlib.legend.Legend at 0x7fe06f8bf750>"
            ]
          },
          "metadata": {},
          "execution_count": 15
        },
        {
          "output_type": "display_data",
          "data": {
            "text/plain": [
              "<Figure size 432x288 with 1 Axes>"
            ],
            "image/png": "[encoded data removed]"
          },
          "metadata": {
            "needs_background": "light"
          }
        }
      ]
    },
    {
      "cell_type": "code",
      "source": [
        "t = np.linspace(0,10,100)\n",
        "exponenty = range(1,7)\n",
        "funkce = [t**i for i in exponenty]\n",
        "\n",
        "fig, ax = plt.subplots()\n",
        "for i,f in zip(exponenty, funkce):\n",
        "  ax.plot(t,f,label=r\"Křivka $y=x^%s$\"%i)\n",
        "\n",
        "ax.legend(title = \"Mocninné funkce\", loc = \"upper right\")\n",
        "ax.set(\n",
        "    title = \"Obrázek s hladkými funkcemi a legendou\",\n",
        "    ylim = [-2, 150],\n",
        "    xlabel = \"nezávislá proměnná\",\n",
        "    ylabel = \"závislá proměnná\"    \n",
        ")"
      ],
      "metadata": {
        "colab": {
          "base_uri": "https://localhost:8080/",
          "height": 367
        },
        "id": "pYz7UyjgeBTw",
        "outputId": "fa43981b-2d56-48f2-e1ff-acdd18a8daa7"
      },
      "execution_count": null,
      "outputs": [
        {
          "output_type": "execute_result",
          "data": {
            "text/plain": [
              "[(-2.0, 150.0),\n",
              " Text(0, 0.5, 'závislá proměnná'),\n",
              " Text(0.5, 0, 'nezávislá proměnná'),\n",
              " Text(0.5, 1.0, 'Obrázek s hladkými funkcemi a legendou')]"
            ]
          },
          "metadata": {},
          "execution_count": 16
        },
        {
          "output_type": "display_data",
          "data": {
            "text/plain": [
              "<Figure size 432x288 with 1 Axes>"
            ],
            "image/png": "[encoded data removed]"
          },
          "metadata": {
            "needs_background": "light"
          }
        }
      ]
    },
    {
      "cell_type": "markdown",
      "source": [
        "Related is https://jckantor.github.io/CBE30338/ a https://gist.github.com/michaelosthege/27315631c1aedbe55f5affbccabef1ca"
      ],
      "metadata": {
        "id": "eZayztAo1s06"
      }
    },
    {
      "cell_type": "code",
      "source": [
        "df = pd.read_csv(\"https://raw.githubusercontent.com/robert-marik/myslivost/main/cviceni/hudson_bay_lynx_hare.csv\", skiprows=2)\n",
        "df.Year = pd.to_datetime(df.Year, format='%Y')  # https://stackoverflow.com/questions/46658232/pandas-convert-column-with-year-integer-to-datetime\n",
        "df"
      ],
      "metadata": {
        "colab": {
          "base_uri": "https://localhost:8080/",
          "height": 708
        },
        "id": "-FdLBA-yf8se",
        "outputId": "cf0765c0-8d4a-4aad-9530-5aaab3a8b110"
      },
      "execution_count": null,
      "outputs": [
        {
          "output_type": "execute_result",
          "data": {
            "text/plain": [
              "         Year  Lynx  Hare\n",
              "0  1900-01-01   4.0  30.0\n",
              "1  1901-01-01   6.1  47.2\n",
              "2  1902-01-01   9.8  70.2\n",
              "3  1903-01-01  35.2  77.4\n",
              "4  1904-01-01  59.4  36.3\n",
              "5  1905-01-01  41.7  20.6\n",
              "6  1906-01-01  19.0  18.1\n",
              "7  1907-01-01  13.0  21.4\n",
              "8  1908-01-01   8.3  22.0\n",
              "9  1909-01-01   9.1  25.4\n",
              "10 1910-01-01   7.4  27.1\n",
              "11 1911-01-01   8.0  40.3\n",
              "12 1912-01-01  12.3  57.0\n",
              "13 1913-01-01  19.5  76.6\n",
              "14 1914-01-01  45.7  52.3\n",
              "15 1915-01-01  51.1  19.5\n",
              "16 1916-01-01  29.7  11.2\n",
              "17 1917-01-01  15.8   7.6\n",
              "18 1918-01-01   9.7  14.6\n",
              "19 1919-01-01  10.1  16.2\n",
              "20 1920-01-01   8.6  24.7"
            ],
            "text/html": [
              "\n",
              "  <div id=\"df-7b1cc08a-d626-42cc-b68b-9e630946164b\">\n",
              "    <div class=\"colab-df-container\">\n",
              "      <div>\n",
              "<style scoped>\n",
              "    .dataframe tbody tr th:only-of-type {\n",
              "        vertical-align: middle;\n",
              "    }\n",
              "\n",
              "    .dataframe tbody tr th {\n",
              "        vertical-align: top;\n",
              "    }\n",
              "\n",
              "    .dataframe thead th {\n",
              "        text-align: right;\n",
              "    }\n",
              "</style>\n",
              "<table border=\"1\" class=\"dataframe\">\n",
              "  <thead>\n",
              "    <tr style=\"text-align: right;\">\n",
              "      <th></th>\n",
              "      <th>Year</th>\n",
              "      <th>Lynx</th>\n",
              "      <th>Hare</th>\n",
              "    </tr>\n",
              "  </thead>\n",
              "  <tbody>\n",
              "    <tr>\n",
              "      <th>0</th>\n",
              "      <td>1900-01-01</td>\n",
              "      <td>4.0</td>\n",
              "      <td>30.0</td>\n",
              "    </tr>\n",
              "    <tr>\n",
              "      <th>1</th>\n",
              "      <td>1901-01-01</td>\n",
              "      <td>6.1</td>\n",
              "      <td>47.2</td>\n",
              "    </tr>\n",
              "    <tr>\n",
              "      <th>2</th>\n",
              "      <td>1902-01-01</td>\n",
              "      <td>9.8</td>\n",
              "      <td>70.2</td>\n",
              "    </tr>\n",
              "    <tr>\n",
              "      <th>3</th>\n",
              "      <td>1903-01-01</td>\n",
              "      <td>35.2</td>\n",
              "      <td>77.4</td>\n",
              "    </tr>\n",
              "    <tr>\n",
              "      <th>4</th>\n",
              "      <td>1904-01-01</td>\n",
              "      <td>59.4</td>\n",
              "      <td>36.3</td>\n",
              "    </tr>\n",
              "    <tr>\n",
              "      <th>5</th>\n",
              "      <td>1905-01-01</td>\n",
              "      <td>41.7</td>\n",
              "      <td>20.6</td>\n",
              "    </tr>\n",
              "    <tr>\n",
              "      <th>6</th>\n",
              "      <td>1906-01-01</td>\n",
              "      <td>19.0</td>\n",
              "      <td>18.1</td>\n",
              "    </tr>\n",
              "    <tr>\n",
              "      <th>7</th>\n",
              "      <td>1907-01-01</td>\n",
              "      <td>13.0</td>\n",
              "      <td>21.4</td>\n",
              "    </tr>\n",
              "    <tr>\n",
              "      <th>8</th>\n",
              "      <td>1908-01-01</td>\n",
              "      <td>8.3</td>\n",
              "      <td>22.0</td>\n",
              "    </tr>\n",
              "    <tr>\n",
              "      <th>9</th>\n",
              "      <td>1909-01-01</td>\n",
              "      <td>9.1</td>\n",
              "      <td>25.4</td>\n",
              "    </tr>\n",
              "    <tr>\n",
              "      <th>10</th>\n",
              "      <td>1910-01-01</td>\n",
              "      <td>7.4</td>\n",
              "      <td>27.1</td>\n",
              "    </tr>\n",
              "    <tr>\n",
              "      <th>11</th>\n",
              "      <td>1911-01-01</td>\n",
              "      <td>8.0</td>\n",
              "      <td>40.3</td>\n",
              "    </tr>\n",
              "    <tr>\n",
              "      <th>12</th>\n",
              "      <td>1912-01-01</td>\n",
              "      <td>12.3</td>\n",
              "      <td>57.0</td>\n",
              "    </tr>\n",
              "    <tr>\n",
              "      <th>13</th>\n",
              "      <td>1913-01-01</td>\n",
              "      <td>19.5</td>\n",
              "      <td>76.6</td>\n",
              "    </tr>\n",
              "    <tr>\n",
              "      <th>14</th>\n",
              "      <td>1914-01-01</td>\n",
              "      <td>45.7</td>\n",
              "      <td>52.3</td>\n",
              "    </tr>\n",
              "    <tr>\n",
              "      <th>15</th>\n",
              "      <td>1915-01-01</td>\n",
              "      <td>51.1</td>\n",
              "      <td>19.5</td>\n",
              "    </tr>\n",
              "    <tr>\n",
              "      <th>16</th>\n",
              "      <td>1916-01-01</td>\n",
              "      <td>29.7</td>\n",
              "      <td>11.2</td>\n",
              "    </tr>\n",
              "    <tr>\n",
              "      <th>17</th>\n",
              "      <td>1917-01-01</td>\n",
              "      <td>15.8</td>\n",
              "      <td>7.6</td>\n",
              "    </tr>\n",
              "    <tr>\n",
              "      <th>18</th>\n",
              "      <td>1918-01-01</td>\n",
              "      <td>9.7</td>\n",
              "      <td>14.6</td>\n",
              "    </tr>\n",
              "    <tr>\n",
              "      <th>19</th>\n",
              "      <td>1919-01-01</td>\n",
              "      <td>10.1</td>\n",
              "      <td>16.2</td>\n",
              "    </tr>\n",
              "    <tr>\n",
              "      <th>20</th>\n",
              "      <td>1920-01-01</td>\n",
              "      <td>8.6</td>\n",
              "      <td>24.7</td>\n",
              "    </tr>\n",
              "  </tbody>\n",
              "</table>\n",
              "</div>\n",
              "      <button class=\"colab-df-convert\" onclick=\"convertToInteractive('df-7b1cc08a-d626-42cc-b68b-9e630946164b')\"\n",
              "              title=\"Convert this dataframe to an interactive table.\"\n",
              "              style=\"display:none;\">\n",
              "        \n",
              "  <svg xmlns=\"http://www.w3.org/2000/svg\" height=\"24px\"viewBox=\"0 0 24 24\"\n",
              "       width=\"24px\">\n",
              "    <path d=\"M0 0h24v24H0V0z\" fill=\"none\"/>\n",
              "    <path d=\"M18.56 5.44l.94 2.06.94-2.06 2.06-.94-2.06-.94-.94-2.06-.94 2.06-2.06.94zm-11 1L8.5 8.5l.94-2.06 2.06-.94-2.06-.94L8.5 2.5l-.94 2.06-2.06.94zm10 10l.94 2.06.94-2.06 2.06-.94-2.06-.94-.94-2.06-.94 2.06-2.06.94z\"/><path d=\"M17.41 7.96l-1.37-1.37c-.4-.4-.92-.59-1.43-.59-.52 0-1.04.2-1.43.59L10.3 9.45l-7.72 7.72c-.78.78-.78 2.05 0 2.83L4 21.41c.39.39.9.59 1.41.59.51 0 1.02-.2 1.41-.59l7.78-7.78 2.81-2.81c.8-.78.8-2.07 0-2.86zM5.41 20L4 18.59l7.72-7.72 1.47 1.35L5.41 20z\"/>\n",
              "  </svg>\n",
              "      </button>\n",
              "      \n",
              "  <style>\n",
              "    .colab-df-container {\n",
              "      display:flex;\n",
              "      flex-wrap:wrap;\n",
              "      gap: 12px;\n",
              "    }\n",
              "\n",
              "    .colab-df-convert {\n",
              "      background-color: #E8F0FE;\n",
              "      border: none;\n",
              "      border-radius: 50%;\n",
              "      cursor: pointer;\n",
              "      display: none;\n",
              "      fill: #1967D2;\n",
              "      height: 32px;\n",
              "      padding: 0 0 0 0;\n",
              "      width: 32px;\n",
              "    }\n",
              "\n",
              "    .colab-df-convert:hover {\n",
              "      background-color: #E2EBFA;\n",
              "      box-shadow: 0px 1px 2px rgba(60, 64, 67, 0.3), 0px 1px 3px 1px rgba(60, 64, 67, 0.15);\n",
              "      fill: #174EA6;\n",
              "    }\n",
              "\n",
              "    [theme=dark] .colab-df-convert {\n",
              "      background-color: #3B4455;\n",
              "      fill: #D2E3FC;\n",
              "    }\n",
              "\n",
              "    [theme=dark] .colab-df-convert:hover {\n",
              "      background-color: #434B5C;\n",
              "      box-shadow: 0px 1px 3px 1px rgba(0, 0, 0, 0.15);\n",
              "      filter: drop-shadow(0px 1px 2px rgba(0, 0, 0, 0.3));\n",
              "      fill: #FFFFFF;\n",
              "    }\n",
              "  </style>\n",
              "\n",
              "      <script>\n",
              "        const buttonEl =\n",
              "          document.querySelector('#df-7b1cc08a-d626-42cc-b68b-9e630946164b button.colab-df-convert');\n",
              "        buttonEl.style.display =\n",
              "          google.colab.kernel.accessAllowed ? 'block' : 'none';\n",
              "\n",
              "        async function convertToInteractive(key) {\n",
              "          const element = document.querySelector('#df-7b1cc08a-d626-42cc-b68b-9e630946164b');\n",
              "          const dataTable =\n",
              "            await google.colab.kernel.invokeFunction('convertToInteractive',\n",
              "                                                     [key], {});\n",
              "          if (!dataTable) return;\n",
              "\n",
              "          const docLinkHtml = 'Like what you see? Visit the ' +\n",
              "            '<a target=\"_blank\" href=https://colab.research.google.com/notebooks/data_table.ipynb>data table notebook</a>'\n",
              "            + ' to learn more about interactive tables.';\n",
              "          element.innerHTML = '';\n",
              "          dataTable['output_type'] = 'display_data';\n",
              "          await google.colab.output.renderOutput(dataTable, element);\n",
              "          const docLink = document.createElement('div');\n",
              "          docLink.innerHTML = docLinkHtml;\n",
              "          element.appendChild(docLink);\n",
              "        }\n",
              "      </script>\n",
              "    </div>\n",
              "  </div>\n",
              "  "
            ]
          },
          "metadata": {},
          "execution_count": 17
        }
      ]
    },
    {
      "cell_type": "code",
      "source": [
        "df.plot(x=\"Year\", style=\"o-\")"
      ],
      "metadata": {
        "colab": {
          "base_uri": "https://localhost:8080/",
          "height": 298
        },
        "id": "wT1ETgivAkvs",
        "outputId": "d91a72d8-f792-4ee4-9736-c631df74600d"
      },
      "execution_count": null,
      "outputs": [
        {
          "output_type": "execute_result",
          "data": {
            "text/plain": [
              "<matplotlib.axes._subplots.AxesSubplot at 0x7fe06f695190>"
            ]
          },
          "metadata": {},
          "execution_count": 18
        },
        {
          "output_type": "display_data",
          "data": {
            "text/plain": [
              "<Figure size 432x288 with 1 Axes>"
            ],
            "image/png": "[encoded data removed]"
          },
          "metadata": {
            "needs_background": "light"
          }
        }
      ]
    },
    {
      "cell_type": "code",
      "source": [
        "x = df.Year\n",
        "y = df[[\"Lynx\"]]\n",
        "plt.plot(x,y)"
      ],
      "metadata": {
        "colab": {
          "base_uri": "https://localhost:8080/",
          "height": 283
        },
        "id": "9eZk-Ke6A2xG",
        "outputId": "77319d9f-ae0d-42fe-ca47-8772dc0e1e09"
      },
      "execution_count": null,
      "outputs": [
        {
          "output_type": "execute_result",
          "data": {
            "text/plain": [
              "[<matplotlib.lines.Line2D at 0x7fe06ef3e050>]"
            ]
          },
          "metadata": {},
          "execution_count": 19
        },
        {
          "output_type": "display_data",
          "data": {
            "text/plain": [
              "<Figure size 432x288 with 1 Axes>"
            ],
            "image/png": "[encoded data removed]"
          },
          "metadata": {
            "needs_background": "light"
          }
        }
      ]
    },
    {
      "cell_type": "code",
      "source": [],
      "metadata": {
        "id": "wOmfCJaKBcMi"
      },
      "execution_count": null,
      "outputs": []
    },
    {
      "cell_type": "code",
      "source": [
        "x"
      ],
      "metadata": {
        "colab": {
          "base_uri": "https://localhost:8080/"
        },
        "id": "78zm6pNBEQTR",
        "outputId": "395324f3-e7d2-49d8-bf04-0b76d2fd0629"
      },
      "execution_count": null,
      "outputs": [
        {
          "output_type": "execute_result",
          "data": {
            "text/plain": [
              "0    1900-01-01\n",
              "1    1901-01-01\n",
              "2    1902-01-01\n",
              "3    1903-01-01\n",
              "4    1904-01-01\n",
              "5    1905-01-01\n",
              "6    1906-01-01\n",
              "7    1907-01-01\n",
              "8    1908-01-01\n",
              "9    1909-01-01\n",
              "10   1910-01-01\n",
              "11   1911-01-01\n",
              "12   1912-01-01\n",
              "13   1913-01-01\n",
              "14   1914-01-01\n",
              "15   1915-01-01\n",
              "16   1916-01-01\n",
              "17   1917-01-01\n",
              "18   1918-01-01\n",
              "19   1919-01-01\n",
              "20   1920-01-01\n",
              "Name: Year, dtype: datetime64[ns]"
            ]
          },
          "metadata": {},
          "execution_count": 20
        }
      ]
    },
    {
      "cell_type": "code",
      "source": [],
      "metadata": {
        "id": "xRUzjBrY4jRE"
      },
      "execution_count": null,
      "outputs": []
    }
  ]
}